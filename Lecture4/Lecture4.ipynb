{
 "cells": [
  {
   "cell_type": "markdown",
   "id": "c9a36baf",
   "metadata": {},
   "source": [
    "# Занятие 4. Проверка гипотез\n",
    "\n",
    "Практические вопросы, которые решает статистика, включают в себя например, действительно ли отличаютс между собой две выборки. Действительно ли среднее значение в выборке отличается от некоторого значения. Правда ли мальчики пишут экзамены по математике лучше, чем девочки.\n",
    "\n",
    "Все эти вопросы решаются с помощью проверки гипотез.\n",
    "\n",
    "## Проверка гипотез\n",
    "\n",
    "### Гипотеза\n",
    "\n",
    "Гипотеза — это предположение о параметрах распределения.\n",
    "\n",
    "Выделяют две гипотезы: нулевая и альтернативная.\n",
    "\n",
    "Нулевая гипотеза $H_0$ — это гипотеза о том, что параметры распределения равны некоторому значению. Альтернативная гипотеза $H_1$ — это гипотеза о том, что параметры распределения не равны некоторому значению.\n",
    "\n",
    "В случае сравнения двух выборок, нулевая гипотеза — это гипотеза о том, что средние значения двух выборок равны. Альтернативная гипотеза — это гипотеза о том, что средние значения двух выборок не равны.\n",
    "\n",
    "Посмотрим на примерах.\n"
   ]
  },
  {
   "cell_type": "code",
   "execution_count": null,
   "id": "439a6114",
   "metadata": {},
   "outputs": [],
   "source": [
    "import pandas as pd\n",
    "\n",
    "data = pd.read_csv(\"StudentsPerformance.csv\")\n",
    "data"
   ]
  },
  {
   "cell_type": "code",
   "execution_count": null,
   "id": "4f58a370",
   "metadata": {},
   "outputs": [],
   "source": [
    "import matplotlib.pyplot as plt\n",
    "\n",
    "male_math = data[data.gender == \"male\"][\"math score\"]\n",
    "female_math = data[data.gender == \"female\"][\"math score\"]\n",
    "\n",
    "plt.hist(male_math, alpha=0.4, range=(0, 100))\n",
    "plt.hist(female_math, alpha=0.4, range=(0, 100));"
   ]
  },
  {
   "cell_type": "code",
   "execution_count": null,
   "id": "b345e184",
   "metadata": {},
   "outputs": [],
   "source": [
    "import numpy as np\n",
    "\n",
    "def compare_distributions(d1, d2, label1, label2):\n",
    "    plt.figure(figsize=(10, 2))\n",
    "\n",
    "    plt.scatter(d1, np.zeros(len(d1)), color=\"blue\", alpha=0.1)\n",
    "    plt.scatter(d2, np.ones(len(d2)) - 0.5, color=\"red\", alpha=0.1)\n",
    "\n",
    "    mean1 = np.mean(d1)\n",
    "    mean2 = np.mean(d2)\n",
    "\n",
    "    plt.vlines(mean1, 0, 0.5, label=f\"mean {label1}\", color=\"blue\")\n",
    "    plt.vlines(mean2, 0, 0.5, label=f\"mean {label2}\", color=\"red\")\n",
    "\n",
    "    plt.yticks(ticks=[0, 0.5], labels=[label1, label2])\n",
    "    plt.xlabel(\"Оценка\")\n",
    "\n",
    "    plt.legend()\n",
    "    plt.show()\n",
    "\n",
    "compare_distributions(male_math, female_math, \"boys\", \"girls\")"
   ]
  },
  {
   "cell_type": "markdown",
   "id": "4b8b696b",
   "metadata": {},
   "source": [
    "\n",
    "### Ошибки первого и второго рода\n",
    "\n",
    "Ошибка первого рода (ложноположительный результат) — это ситуация, когда мы отвергаем нулевую гипотезу, хотя она верна. Ошибка второго рода (ложноотрицательный результат) — это ситуация, когда мы принимаем нулевую гипотезу, хотя она неверна.\n",
    "\n",
    "### Пример в нашем случае.\n",
    "\n",
    "Нулевая гипотеза $H_0$ --  средние оценки мальчиков и девочек совпадают.\n",
    "\n",
    "Альтернативная гипотеза $H_1$ --  средние оценки мальчиков и девочек не совпадают.\n",
    "\n",
    "Ошибка первого рода (ложноположительный результат) -- мы решили, что оценки не совпадают, хотя они совпадают.\n",
    "\n",
    "Ошибка второго рода (ложноотрицательный результат) -- мы решили, что оценки совпадают, хотя они не совпадают.\n"
   ]
  },
  {
   "cell_type": "markdown",
   "id": "d40d3436",
   "metadata": {},
   "source": [
    "### t-test Стьюдента\n",
    "\n",
    "Один из самых простых и распространенных тестов для проверки гипотез о среднем значении. Его формула: \n",
    "\n",
    "$$t = \\frac{\\bar{x} - \\mu_0}{\\sigma / \\sqrt{n}}$$\n",
    "\n",
    "где $\\bar{x}$ — среднее значение выборки, $\\mu_0$ — значение, которое мы сравниваем с средним значением выборки, $\\sigma$ — стандартное отклонение выборки, $n$ — размер выборки.\n",
    "\n",
    "\n",
    "Посмотрим, как эта статистика меняется, если постепенно отдалять распределение от проверяемого средего значения."
   ]
  },
  {
   "cell_type": "code",
   "execution_count": null,
   "id": "b8de53e7",
   "metadata": {},
   "outputs": [],
   "source": [
    "import scipy.stats as sps\n",
    "\n",
    "def t_test(data, mu_0):\n",
    "    mean = data.mean()\n",
    "    std = data.std()\n",
    "    count = len(data)\n",
    "    t = (mean - mu_0) / (std / np.sqrt(count))\n",
    "    return t\n",
    "\n",
    "mean_0 = 0\n",
    "sigma = 1\n",
    "\n",
    "samples = []\n",
    "t_test_results = []\n",
    "mean_range = np.linspace(-5, 5, 100)\n",
    "for m in mean_range:\n",
    "    data = sps.norm(m, sigma).rvs(1000)\n",
    "    t_test_results.append(t_test(data, mean_0))\n"
   ]
  },
  {
   "cell_type": "code",
   "execution_count": null,
   "id": "91ce9c53",
   "metadata": {},
   "outputs": [],
   "source": [
    "import matplotlib.pyplot as plt\n",
    "\n",
    "plt.plot(mean_range, t_test_results)\n",
    "plt.xlabel(\"Отклонение от заданного среднего\")\n",
    "plt.ylabel(\"Значение статистики\")\n",
    "plt.plot()"
   ]
  },
  {
   "cell_type": "markdown",
   "id": "dca18cc0",
   "metadata": {},
   "source": [
    "Из теории статистики известно, что результаты t-теста при верной нулевой гипотезе порождены распределением Стьюдента с `n - 1` степенями свободы (параметр распределения), где `n` -- это размер выборки. \n",
    "\n",
    "Сначала просто посмотрим как выглядит распределение Стьюдента."
   ]
  },
  {
   "cell_type": "code",
   "execution_count": null,
   "id": "39aa8bf6",
   "metadata": {},
   "outputs": [],
   "source": [
    "degrees_of_freedom = [1, 2, 5, 15]\n",
    "\n",
    "X = np.linspace(-4, 4, 1000)\n",
    "\n",
    "\n",
    "plt.figure(figsize=(8, 5))\n",
    "plt.grid()\n",
    "for d in degrees_of_freedom:\n",
    "    density = sps.t(df=d).pdf(X)\n",
    "    plt.plot(X, density, label=f\"df = {d}\")\n",
    "\n",
    "norm = sps.norm.pdf(X)\n",
    "plt.plot(X, norm, label=\"normal\", linewidth=2)\n",
    "plt.xlabel(\"x\")\n",
    "plt.ylabel(\"density\")\n",
    "plt.legend()\n",
    "\n",
    "plt.show()"
   ]
  },
  {
   "cell_type": "markdown",
   "id": "6bc8a2eb",
   "metadata": {},
   "source": [
    "Теперь проверим, что действительно результаты т-теста порождены распределением Стьюдента. Для этого возьмём много (7000) выборок нормального распределения со средним в нуле. Дальше посчитаем для каждой выборки т-тест. И посмотрим на гистограмме, как распределены результаты."
   ]
  },
  {
   "cell_type": "code",
   "execution_count": null,
   "id": "a7aba41b",
   "metadata": {},
   "outputs": [],
   "source": [
    "mean_0 = 0\n",
    "sigma = 1\n",
    "sample_size = 1000\n",
    "\n",
    "samples = []\n",
    "t_test_results = []\n",
    "for _ in range(7000):\n",
    "    data = sps.norm(mean_0, sigma).rvs(sample_size)\n",
    "    t_test_results.append(t_test(data, mean_0))"
   ]
  },
  {
   "cell_type": "code",
   "execution_count": null,
   "id": "29d833f2",
   "metadata": {},
   "outputs": [],
   "source": [
    "plt.figure(figsize=(10, 6))\n",
    "plt.hist(t_test_results, density=True, bins=40, label=\"Результаты t-теста\")\n",
    "plt.plot(np.linspace(-4, 4, 1000), sps.t(df=sample_size-1).pdf(np.linspace(-4, 4, 1000)), label=\"Распределение Стьюдента\")\n",
    "plt.xlabel(\"Значение статистики\")\n",
    "plt.ylabel(\"density\")\n",
    "plt.legend()\n",
    "plt.show()"
   ]
  },
  {
   "cell_type": "markdown",
   "id": "3cae0538",
   "metadata": {},
   "source": [
    "Для контраста, давайте посмотрим, где будет располагаться значение t-теста для выборки, у которой среднее равно не 0 а 0.1"
   ]
  },
  {
   "cell_type": "code",
   "execution_count": null,
   "id": "c502eba0",
   "metadata": {},
   "outputs": [],
   "source": [
    "data = sps.norm(0.11, sigma).rvs(sample_size)\n",
    "t_result = t_test(data, mean_0)\n",
    "\n",
    "plt.figure(figsize=(10, 6))\n",
    "plt.hist(t_test_results, density=True, bins=40, label=\"Результаты t-теста\")\n",
    "plt.plot(np.linspace(-4, 4, 1000), sps.t(df=sample_size-1).pdf(np.linspace(-4, 4, 1000)), label=\"Распределение Стьюдента\")\n",
    "plt.vlines(t_result, 0, 0.24, label=\"Результат со средним 0.11\", color=\"red\")\n",
    "plt.xlabel(\"Значение статистики\")\n",
    "plt.ylabel(\"density\")\n",
    "plt.legend()\n",
    "plt.show()"
   ]
  },
  {
   "cell_type": "markdown",
   "id": "7250b4b9",
   "metadata": {},
   "source": [
    "\n",
    "\n",
    "### p-value\n",
    "\n",
    "Для численной оценки вероятности ошибки первого рода используется p-value. p-value -- это то, насколько вероятно получить данный или более экстремальный результат статистики (т-теста) при условии, что нулевая гипотеза верна. \n",
    "\n",
    "Если такая вероятность очень мала -- мы можем отвергнуть нулевую гипотезу. \n",
    "\n",
    "p-value считается с помощью функции распределения `F` для распределения Стьюдента.\n",
    "\n",
    "Но вообще, в scipy уже реализован t-test, который автоматически считает статистику и p-value.\n",
    "\n",
    "Однако, для наглядности, давайте нанесём p-value = 0.05 на предыдущий график."
   ]
  },
  {
   "cell_type": "code",
   "execution_count": null,
   "id": "35ec12f5",
   "metadata": {},
   "outputs": [],
   "source": [
    "alpha = 0.05\n",
    "\n",
    "l_pvals = sps.t(df=sample_size-1).ppf(alpha)\n",
    "r_pvals = sps.t(df=sample_size-1).ppf(1 - alpha)\n",
    "\n",
    "data = sps.norm(0.11, sigma).rvs(sample_size)\n",
    "t_result = t_test(data, mean_0)\n",
    "\n",
    "plt.figure(figsize=(10, 6))\n",
    "plt.hist(t_test_results, density=True, bins=40, label=\"Результаты t-теста\")\n",
    "plt.plot(np.linspace(-4, 4, 1000), sps.t(df=sample_size-1).pdf(np.linspace(-4, 4, 1000)), label=\"Распределение Стьюдента\")\n",
    "plt.vlines(l_pvals, 0, 0.3, label=\"Левый p-value=0.05\", color=\"black\", linestyle=\":\")\n",
    "plt.vlines(r_pvals, 0, 0.3, label=\"Правый p-value=0.05\", color=\"red\" , linestyle=\":\")\n",
    "plt.vlines(t_result, 0, 0.3, label=\"Результат со средним 0.11\", color=\"green\")\n",
    "plt.xlabel(\"Значение статистики\")\n",
    "plt.ylabel(\"density\")\n",
    "plt.legend()\n",
    "plt.show()"
   ]
  },
  {
   "cell_type": "markdown",
   "id": "da049776",
   "metadata": {},
   "source": [
    "### Виды гипотез\n",
    "\n",
    "**Левосторонняя гипотеза**\n",
    "\n",
    "Среднее значение выборки меньше некоторого значения.\n",
    "\n",
    "**Правосторонняя гипотеза**\n",
    "\n",
    "Среднее значение выборки больше некоторого значения.\n",
    "\n",
    "**Двусторонняя гипотеза**\n",
    "\n",
    "Среднее значение выборки не равно некоторому значению.\n",
    "\n",
    "### Виды статистических тестов (на примере t-теста)\n",
    "\n",
    "**Одновыборочный t-тест**\n",
    "\n",
    "Формула:\n",
    "\n",
    "$$t = \\frac{\\bar{x} - \\mu_0}{\\sigma / \\sqrt{n}}$$\n",
    "\n",
    "Проверяется гипотеза о том, что среднее значение выборки равно некоторому референсному значению.\n",
    "\n",
    "**Двухвыборочный t-тест**\n",
    "\n",
    "Формула:\n",
    "\n",
    "$$t = \\frac{\\bar{x}_1 - \\bar{x}_2}{\\sqrt{\\frac{\\sigma_1^2}{n_1} + \\frac{\\sigma_2^2}{n_2}}}$$\n",
    "\n",
    "Проверяется гипотеза о том, что средние значения двух выборок равны.\n",
    "\n",
    "**Двухвыборочный t-тест с зависимыми выборками**\n",
    "\n",
    "Формула:\n",
    "\n",
    "$$\n",
    "d = x_1 - x_2 \\\\ \n",
    "t = \\frac{\\bar{d} - 0}{\\sigma_d / \\sqrt{n}}\n",
    "$$\n",
    "\n",
    "Допустим, в двух экспериментах поучаствовала одна и та же группа людей. Тогда, чтобы проверить различие между экспериментами, мы можем поэлементно вычесть результаты первого эксперимента из результатов второго (для каждого человека), а потом применить к разности одновыборочный t-тест с нулевой гипотезой о том, что среднее значение разности равно 0."
   ]
  },
  {
   "cell_type": "markdown",
   "id": "3cc1157d",
   "metadata": {},
   "source": [
    "### Одновыборочный t-тест\n",
    "\n",
    "Реализован в модуле `scipy.stats` как `ttest_1samp`.\n",
    "\n",
    "Аргумент `a` -- это выборка, по которой проверяется гипотеза.\n",
    "\n",
    "Аргумент `popmean` -- это референсное значение, которое проверяется в гипотезе.\n",
    "\n",
    "Вид гипотезы указывается в аргументе `alternative`.\n",
    "\n",
    "* `alternative = \"two-sided\"` -- двусторонняя гипотеза\n",
    "* `alternative = \"less\"` -- левосторонняя гипотеза\n",
    "* `alternative = \"greater\"` -- правосторонняя гипотеза\n",
    "\n",
    "\n",
    "Проведём такой эксперимент: \n",
    "\n",
    "1. Посчитаем среднюю оценку по математике среди всех учеников.\n",
    "2. Проверим, отличается ли средняя оценка по математике среди тех, кто готовится к экзамену, от средней оценки по математике среди всех учеников.\n",
    "\n"
   ]
  },
  {
   "cell_type": "code",
   "execution_count": null,
   "id": "744e27a8",
   "metadata": {},
   "outputs": [],
   "source": [
    "data = pd.read_csv(\"StudentsPerformance.csv\")\n",
    "\n",
    "general_mean = data[\"math score\"].mean()\n",
    "\n",
    "prepared_sample = data[data[\"test preparation course\"] == \"completed\"][\"math score\"]"
   ]
  },
  {
   "cell_type": "code",
   "execution_count": null,
   "id": "8e019197",
   "metadata": {},
   "outputs": [],
   "source": [
    "plt.hist(prepared_sample)\n",
    "plt.vlines(general_mean, 0, 80, color=\"red\", label=\"general mean\")\n",
    "plt.vlines(prepared_sample.mean(), 0, 80, color=\"black\", label=\"prepared mean\")\n",
    "plt.legend()\n",
    "plt.xlabel(\"Math score\")\n",
    "plt.ylabel(\"frequency\")\n",
    "plt.show()"
   ]
  },
  {
   "cell_type": "code",
   "execution_count": null,
   "id": "146c89f7",
   "metadata": {},
   "outputs": [],
   "source": [
    "print(f\"Двусторонняя альтернатива:   {sps.ttest_1samp(a=prepared_sample, popmean=general_mean, alternative='two-sided')}\")\n",
    "print(f\"Левосторонняя альтернатива:  {sps.ttest_1samp(a=prepared_sample, popmean=general_mean, alternative='less')}\")\n",
    "print(f\"Правосторонняя альтернатива: {sps.ttest_1samp(a=prepared_sample, popmean=general_mean, alternative='greater')}\")"
   ]
  },
  {
   "cell_type": "markdown",
   "id": "15d10fa0",
   "metadata": {},
   "source": [
    "### Двухвыборочный t-тест с независимыми выборками\n",
    "\n",
    "Реализован в модуле `scipy.stats` как `ttest_ind`.\n",
    "\n",
    "Аргументы функции:\n",
    "\n",
    "* `a` -- первая выборка\n",
    "* `b` -- вторая выборка\n",
    "* `equal_var` -- флаг, указывающий, следует ли считать дисперсии равными\n",
    "* `alternative` -- вид альтернативной гипотезы (двусторонняя, левосторонняя, правосторонняя, как в случае выше)\n",
    "\n",
    "Наконец-то мы узнаем, является ли различие в оценках по математике у мальчиков и девочек статистически значимым.\n",
    "\n",
    "Сначала руками проверим, равны ли дисперсии."
   ]
  },
  {
   "cell_type": "code",
   "execution_count": null,
   "id": "4dd03c39",
   "metadata": {},
   "outputs": [],
   "source": [
    "male_math = data[data[\"gender\"] == \"male\"][\"math score\"]\n",
    "female_math = data[data[\"gender\"] == \"female\"][\"math score\"]\n",
    "\n",
    "male_var = male_math.var()\n",
    "female_var = female_math.var()\n",
    "\n",
    "print(f\"Дисперсия у мальчиков: {round(male_var, 3)}\")\n",
    "print(f\"Дисперсия у девочек: {round(female_var, 3)}\")"
   ]
  },
  {
   "cell_type": "code",
   "execution_count": null,
   "id": "dc75e637",
   "metadata": {},
   "outputs": [],
   "source": [
    "print(f\"Равные дисперсии:{sps.ttest_ind(male_math, female_math, equal_var=True, alternative='greater')}\")\n",
    "print(f\"Неравные дисперсии:{sps.ttest_ind(male_math, female_math, equal_var=False, alternative='greater')}\")"
   ]
  },
  {
   "cell_type": "markdown",
   "id": "ef5652a6",
   "metadata": {},
   "source": [
    "### Двухвыборочный t-тест с зависимыми выборками\n",
    "\n",
    "Реализован в модуле `scipy.stats` как `ttest_rel`.\n",
    "\n",
    "Аргументы функции:\n",
    "\n",
    "* `a` -- первая выборка\n",
    "* `b` -- вторая выборка\n",
    "* `alternative` -- вид альтернативной гипотезы (двусторонняя, левосторонняя, правосторонняя, как в случае выше)\n",
    "\n",
    "Допустим, мы хотим проверить есть ли разница в оценках по письму и чтению у **одних и тех же** девочек. То есть две выборки зависимы, потому что это одни и те же ученики."
   ]
  },
  {
   "cell_type": "code",
   "execution_count": null,
   "id": "dd353808",
   "metadata": {},
   "outputs": [],
   "source": [
    "writing_scores = data[data.gender == \"female\"][\"writing score\"]\n",
    "reading_scores = data[data.gender == \"female\"][\"reading score\"]\n",
    "\n",
    "print(f\"Двусторонняя альтернатива:   {sps.ttest_rel(writing_scores, reading_scores, alternative='two-sided')}\")\n",
    "print(f\"Левосторонняя альтернатива:  {sps.ttest_rel(writing_scores, reading_scores, alternative='less')}\")\n",
    "print(f\"Правосторонняя альтернатива: {sps.ttest_rel(writing_scores, reading_scores, alternative='greater')}\")"
   ]
  },
  {
   "cell_type": "code",
   "execution_count": null,
   "id": "1c28f7cb",
   "metadata": {},
   "outputs": [],
   "source": [
    "plt.hist(writing_scores, range=(0, 100), bins=25, alpha=0.4)\n",
    "plt.hist(reading_scores, range=(0, 100), bins=25, alpha=0.4)\n",
    "plt.show()"
   ]
  },
  {
   "cell_type": "code",
   "execution_count": null,
   "id": "6ae3ef87",
   "metadata": {},
   "outputs": [],
   "source": []
  }
 ],
 "metadata": {
  "kernelspec": {
   "display_name": "basic",
   "language": "python",
   "name": "python3"
  },
  "language_info": {
   "codemirror_mode": {
    "name": "ipython",
    "version": 3
   },
   "file_extension": ".py",
   "mimetype": "text/x-python",
   "name": "python",
   "nbconvert_exporter": "python",
   "pygments_lexer": "ipython3",
   "version": "3.9.21"
  }
 },
 "nbformat": 4,
 "nbformat_minor": 5
}
