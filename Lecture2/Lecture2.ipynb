{
 "cells": [
  {
   "cell_type": "markdown",
   "id": "25422eda",
   "metadata": {},
   "source": [
    "# Занятие 2. Описательная статистика. Построение графиков.\n",
    "\n",
    "## Описательные статистики.\n",
    "\n",
    "В статистике есть ряд величин, которые характеризуют данные. Их можно использовать для \"первого взгляда\" на выборку. Их можно разделить на две группы:\n",
    "\n",
    "* Величины, которые характеризуют центральную тенденцию (среднее, медиана, мода)\n",
    "* Величины, которые характеризуют разброс данных (дисперсия, стандартное отклонение)\n",
    "\n",
    "Сегодня в качестве модельного набора данных мы возьмём данные об оценках студентов за экзамены.\n",
    "\n",
    "Поехали!\n",
    "\n",
    "Для начала загрузим данные и посмотрим на них.\n"
   ]
  },
  {
   "cell_type": "code",
   "execution_count": null,
   "id": "70879dbd",
   "metadata": {},
   "outputs": [],
   "source": [
    "import pandas as pd\n",
    "\n",
    "data = # Ваш код\n",
    "data.head()"
   ]
  },
  {
   "cell_type": "code",
   "execution_count": null,
   "id": "15434e58",
   "metadata": {},
   "outputs": [],
   "source": [
    "data.info()"
   ]
  },
  {
   "cell_type": "code",
   "execution_count": null,
   "id": "ea903ea6",
   "metadata": {},
   "outputs": [],
   "source": [
    "data.describe()"
   ]
  },
  {
   "cell_type": "markdown",
   "id": "44fb8bbe",
   "metadata": {},
   "source": [
    "Сначала поговорим про величины, характеризующие центральную тенденцию.\n",
    "\n",
    "### Среднее значение.\n",
    "\n",
    "Оно же среднее арифметическое, выборочное среднее, mean value. \n",
    "\n",
    "Вычисляется оно по формуле:\n",
    "\n",
    "$\\bar{x} = \\frac{1}{n} \\sum_{i=1}^{n} x_i$\n",
    "\n",
    "Наиболее интуитивная величина. \"Взять всё и поделить\". Часто действительно хорошо выражает центральную тенденцию (но не всегда). \n",
    "\n",
    "Давайте в качестве примера найдём среднее значение оценки мальчиков и девочек за экзамен по математике."
   ]
  },
  {
   "cell_type": "code",
   "execution_count": null,
   "id": "0004f238",
   "metadata": {},
   "outputs": [],
   "source": [
    "print(\"Мальчики:\", data[data.gender == \"male\"][\"math score\"].mean())\n",
    "print(\"Девочки: \", data[data.gender == \"female\"][\"math score\"].mean())"
   ]
  },
  {
   "cell_type": "markdown",
   "id": "91e188bc",
   "metadata": {},
   "source": [
    "### Медиана. \n",
    "\n",
    "Пусть дана выборка $x_1, x_2, \\ldots, x_n$. Отсортируем её значения по возрастанию и получим новую последовательность $x_{(1)}, x_{(2)}, \\ldots, x_{(n)}$. Тогда медианой называется значение, которое делит эту последовательность на две равные части. Если $n$ нечётно, то медиана равна $x_{(n+1)/2}$. Если $n$ чётно, то медиана равна среднему арифметическому двух средних элементов: $x_{n/2}$ и $x_{n/2+1}$.\n",
    "\n",
    "То есть медиана -- это значение, которое делит выборку на две равные части: половина выборки меньше медианы, половина -- больше. "
   ]
  },
  {
   "cell_type": "code",
   "execution_count": null,
   "id": "3dd11c6d",
   "metadata": {},
   "outputs": [],
   "source": [
    "print(\"Мальчики:\",   data[data.gender == \"male\"][\"math score\"].median())\n",
    "print(\"Девочки: \", data[data.gender == \"female\"][\"math score\"].median())"
   ]
  },
  {
   "cell_type": "markdown",
   "id": "d301d4f8",
   "metadata": {},
   "source": [
    "Мы видим, что в данном случае среднее и медиана довольно сильно отличаются. Чуть позже, перейдя к графикам, мы наглядно увидим причины этого и поговорим, когда медиана лучше среднего."
   ]
  },
  {
   "cell_type": "markdown",
   "id": "e190a0dc",
   "metadata": {},
   "source": [
    "### Мода.\n",
    "\n",
    "Мода определяется как наиболее часто встречающееся значение в выборке. \n",
    "\n",
    "Её удобнее всего использовать для категориальных или квантизованных данных (равномерно разбитых на несколько интервалов). "
   ]
  },
  {
   "cell_type": "code",
   "execution_count": null,
   "id": "6a75d6c7",
   "metadata": {},
   "outputs": [],
   "source": [
    "print(\"Мальчики:\",   data[data.gender == \"male\"][\"math score\"].mode())\n",
    "print(\"Девочки: \", data[data.gender == \"female\"][\"math score\"].mode())"
   ]
  },
  {
   "cell_type": "code",
   "execution_count": null,
   "id": "cdb75f52",
   "metadata": {},
   "outputs": [],
   "source": [
    "data[\"parental level of education\"].mode()"
   ]
  },
  {
   "cell_type": "code",
   "execution_count": null,
   "id": "dcdcb75a",
   "metadata": {},
   "outputs": [],
   "source": [
    "data[\"lunch\"].mode()"
   ]
  },
  {
   "cell_type": "markdown",
   "id": "d11dc5ac",
   "metadata": {},
   "source": [
    "Теперь поговорим про величины, характеризующие разброс данных. \n",
    "\n",
    "### Дисперсия и стандартное отклонение.\n",
    "\n",
    "Важным показателем данных является то, насколько данные сгруппированы вокруг среднего значения или наоборрот рассеяны. Для этого можно найти среднее значение, а дальше посчитать насколько в среднем каждый отдельный элемент отклоняется от него.\n",
    "\n",
    "Формула: \n",
    "\n",
    "$$\\mathbb{D}[X] = \\sigma^2 = \\frac{1}{n} \\sum_{i=1}^{n} (x_i - \\bar{x})^2$$\n",
    "\n",
    "Как видно из формулы, дисперсия -- это среднее значение квадратов отклонений от среднего. И эта формула возводит \"размерность\" данных в квадрат. Поэтому для удобства вводят стандартное отклонение, которое равно квадратному корню из дисперсии. Таким образом, стандартное отклонение имеет ту же размерность, что и исходные данные.\n",
    "\n",
    "$$std = \\sqrt{\\mathbb{D}} = \\sigma$$\n",
    "\n"
   ]
  },
  {
   "cell_type": "code",
   "execution_count": null,
   "id": "49e5a5e0",
   "metadata": {},
   "outputs": [],
   "source": [
    "print(\"Мальчики:\",   data[data.gender == \"male\"][\"math score\"].var())\n",
    "print(\"Девочки: \", data[data.gender == \"female\"][\"math score\"].var())"
   ]
  },
  {
   "cell_type": "code",
   "execution_count": null,
   "id": "78a8fffb",
   "metadata": {},
   "outputs": [],
   "source": [
    "print(\"Мальчики:\",   data[data.gender == \"male\"][\"math score\"].std())\n",
    "print(\"Девочки: \", data[data.gender == \"female\"][\"math score\"].std())"
   ]
  },
  {
   "cell_type": "markdown",
   "id": "4f0ca6ec",
   "metadata": {},
   "source": [
    "## Построение графиков. Модуль matplotlib.pyplot\n",
    "\n",
    "При изучении данных часто бывает полезно визуализировать их. Для этого в Python есть модуль matplotlib.pyplot. Визуализация помогает оценить распределение данных, корреляции между переменными, а также выявить выбросы и аномалии. "
   ]
  },
  {
   "cell_type": "markdown",
   "id": "c1e10a3c",
   "metadata": {},
   "source": [
    "### Гистограмма.\n",
    "\n",
    "Для оценки распределения данных часто используют гистограммы. Гистограмма показывает, как часто встречаются различные значения в выборке. Для этого область значений выборки разбивается на несколько равных интервалов-корзин (\"bins\"). Затем подсчитывается количество значений, попавших в каждую корзину. \n",
    "\n",
    "Таким образом, гистограмма показывает, как часто встречаются различные значения в выборке. \n",
    "\n",
    "Для примера построим гистограмму распределения оценок по математике.\n"
   ]
  },
  {
   "cell_type": "code",
   "execution_count": null,
   "id": "4b3c8c6f",
   "metadata": {},
   "outputs": [],
   "source": [
    "import matplotlib.pyplot as plt\n",
    "\n",
    "math_scores = data[\"math score\"]\n",
    "\n",
    "plt.hist(math_scores, bins=20)\n",
    "\n",
    "plt.title(\"Распределение оценок по математике\")\n",
    "plt.xlabel(\"Оценка\")\n",
    "plt.ylabel(\"Частота\")\n",
    "plt.show()"
   ]
  },
  {
   "cell_type": "markdown",
   "id": "bab2225c",
   "metadata": {},
   "source": [
    "Мы видим, что на гистограмме очень много нулевых значений. Это мешает оценить распределение игр, которые продавались в США. Давайте построим гистограмму, исключив нулевые значения."
   ]
  },
  {
   "cell_type": "code",
   "execution_count": null,
   "id": "5847a25b",
   "metadata": {},
   "outputs": [],
   "source": [
    "male_math_scores   = data[data.gender == \"male\"][\"math score\"]\n",
    "female_math_scores = data[data.gender == \"female\"][\"math score\"]\n",
    "\n",
    "plt.hist(male_math_scores,   bins=20, label=\"мальчики\", alpha=0.3, range=(0, 100))\n",
    "plt.hist(female_math_scores, bins=20,  label=\"девочки\", alpha=0.3, range=(0, 100))\n",
    "\n",
    "plt.title(\"Распределение оценок по математике\")\n",
    "plt.xlabel(\"Оценка\")\n",
    "plt.ylabel(\"Частота\")\n",
    "plt.legend()\n",
    "plt.show()"
   ]
  },
  {
   "cell_type": "markdown",
   "id": "3b43ce0e",
   "metadata": {},
   "source": [
    "Давайте добавим на график среднее, медиану и моду.\n",
    "\n",
    "\n",
    "\n",
    "\n",
    "\n",
    "\n",
    "\n",
    "\n",
    "\n",
    "\n"
   ]
  },
  {
   "cell_type": "code",
   "execution_count": null,
   "id": "9ce42609",
   "metadata": {},
   "outputs": [],
   "source": [
    "male_math_scores   = data[data.gender == \"male\"][\"math score\"]\n",
    "female_math_scores = data[data.gender == \"female\"][\"math score\"]\n",
    "\n",
    "def plot_hist_and_line(ax, male_data, female_data,\n",
    "                       male_line_param, female_line_param, label):\n",
    "    ax.hist(male_data,   bins=20, label=\"мальчики\", alpha=0.3, range=(0, 100))\n",
    "    ax.hist(female_data, bins=20,  label=\"девочки\", alpha=0.3, range=(0, 100))\n",
    "    ax.vlines(male_line_param, 0, 82, label=f\"муж_{label}\", color=\"blue\")\n",
    "    ax.vlines(female_line_param, 0, 82, label=f\"жен_{label}\", color=\"red\")\n",
    "    ax.legend()\n",
    "    ax.set_xlabel(\"Оценка\")\n",
    "    ax.set_ylabel(\"Частота\")\n",
    "    return ax\n",
    "\n",
    "fig, axs = plt.subplots(ncols=3, figsize=(14, 5))\n",
    "\n",
    "plot_hist_and_line(axs[0], male_math_scores, female_math_scores, \n",
    "                   male_math_scores.mean(), female_math_scores.mean(), \"среднее\")\n",
    "\n",
    "plot_hist_and_line(axs[1], male_math_scores, female_math_scores, \n",
    "                   male_math_scores.median(), female_math_scores.median(), \"медиана\")\n",
    "\n",
    "plot_hist_and_line(axs[2], male_math_scores, female_math_scores, \n",
    "                   male_math_scores.mode(), female_math_scores.mode(), \"мода\")\n",
    "\n",
    "\n",
    "plt.show()"
   ]
  },
  {
   "cell_type": "markdown",
   "id": "c8b07337",
   "metadata": {},
   "source": [
    "### Boxplot\n",
    "\n",
    "Другим, чуть более информативным (и в то же время -- более лаконичным) вариантом визуализации распределения является boxplot или ящик с усами.\n",
    "\n",
    "![Описание боксплота](boxplot.png)"
   ]
  },
  {
   "cell_type": "code",
   "execution_count": null,
   "id": "635b4c4e",
   "metadata": {},
   "outputs": [],
   "source": [
    "plt.boxplot([male_math_scores, female_math_scores], labels=[\"male\", \"female\"], vert=False)\n",
    "plt.xlabel(\"Оценка\")\n",
    "plt.show()"
   ]
  },
  {
   "cell_type": "markdown",
   "id": "8b404113",
   "metadata": {},
   "source": [
    "### Scatter plot\n",
    "\n",
    "Для визуализации взаимной зависимости между двумя переменными можно использовать scatter plot."
   ]
  },
  {
   "cell_type": "code",
   "execution_count": null,
   "id": "180d27c6",
   "metadata": {},
   "outputs": [],
   "source": [
    "math_scores    = data[\"math score\"]\n",
    "writing_scores = data[\"writing score\"]\n",
    "reading_scores = data[\"reading score\"]\n",
    "\n",
    "def scatter_plot(ax, x_data, y_data, x_label, y_label):\n",
    "    ax.scatter(x_data, y_data)\n",
    "    ax.set_xlabel(x_label)\n",
    "    ax.set_ylabel(y_label)\n",
    "    return ax\n",
    "\n",
    "fig, axs = plt.subplots(ncols=3, figsize=(18, 6))\n",
    "\n",
    "scatter_plot(axs[0], math_scores, writing_scores, \"math\", \"writing\")\n",
    "scatter_plot(axs[1], math_scores, reading_scores, \"math\", \"reading\")\n",
    "scatter_plot(axs[2], reading_scores, writing_scores, \"reading\", \"writing\")\n",
    "plt.show()"
   ]
  },
  {
   "cell_type": "markdown",
   "id": "ac653b4f",
   "metadata": {},
   "source": [
    "### Barplot\n",
    "\n",
    "Кстати, чуть не забыл. Давайте посмотрим на распределение по полу.\n",
    "\n",
    "Вдруг в этой выборке малчиков сильно больше/меньше, чем девочек? \n",
    "\n",
    "В этом нам поможет barplot."
   ]
  },
  {
   "cell_type": "code",
   "execution_count": null,
   "id": "80ffa5fa",
   "metadata": {},
   "outputs": [],
   "source": [
    "male_count = (data[\"gender\"] == \"male\").sum()\n",
    "female_count = (data[\"gender\"] == \"female\").sum()\n",
    "\n",
    "genders = [\"male\", \"female\"]\n",
    "\n",
    "plt.bar(genders, [male_count, female_count])\n",
    "plt.ylabel(\"Количество\")\n",
    "plt.show()"
   ]
  },
  {
   "cell_type": "markdown",
   "id": "aa741a0b",
   "metadata": {},
   "source": [
    "Построим аналогичный график, но для каждого уровня образования родителей."
   ]
  },
  {
   "cell_type": "code",
   "execution_count": null,
   "id": "4be29139",
   "metadata": {},
   "outputs": [],
   "source": [
    "parent_education_counts = data[\"parental level of education\"].value_counts()\n",
    "\n",
    "values = parent_education_counts.values\n",
    "educations = parent_education_counts.index\n",
    "\n",
    "plt.barh(educations, values)\n",
    "plt.plot()"
   ]
  },
  {
   "cell_type": "markdown",
   "id": "965e1105",
   "metadata": {},
   "source": [
    "## Семинар 2. Медиана vs среднее\n",
    "\n",
    "В ходе семинара мы постараемся выяснить, в каких случаях лучше использовать медиану, а в каких -- среднее.\n",
    "\n",
    "На рассмотренных данных мы видели, что медиана и среднее были довольно близки.\n",
    "\n",
    "Теперь представим такой набор данных: пусть есть некая компания N, и мы знаем зарплаты ее сотрудников. Всего сотрудников 103. 50 из них получают ЗП от 50 до 100, ещё 30 получают от 100 до 200, и ещё 20 получают от 200 до 250.\n",
    "\n",
    "Но есть три начальника, которые получают по 4000 каждый. Посмотрим, как тогда будет выглядеть распределение.\n",
    "\n",
    "\n",
    "\n",
    "\n",
    "\n",
    "\n"
   ]
  },
  {
   "cell_type": "code",
   "execution_count": null,
   "id": "0e174db2",
   "metadata": {},
   "outputs": [],
   "source": [
    "import numpy as np\n",
    "\n",
    "juniors = np.random.uniform( 50, 100, size=50)\n",
    "middles = np.random.uniform(100, 200, size=30)\n",
    "seniors = np.random.uniform(200, 250, size=20)\n",
    "\n",
    "big_bosses = [5000, 5000, 5000]\n",
    "\n",
    "all_employees = pd.Series(np.concatenate([juniors, middles, seniors, big_bosses]))"
   ]
  },
  {
   "cell_type": "markdown",
   "id": "6343cb8c",
   "metadata": {},
   "source": [
    "1. Постройте для этих данных гистограмму. Что вы видете? \n",
    "\n",
    "2. На другом графике постройте гистограмму без начальников. На этом же графике вертикальными линиями изобразите среднее и медиану (взятые по всей выборке). Что вы видете?  \n",
    "\n",
    "3. Постройте boxplot для этих данных. Что вы видете? Есть выбросы?"
   ]
  },
  {
   "cell_type": "code",
   "execution_count": null,
   "id": "42064875",
   "metadata": {},
   "outputs": [],
   "source": []
  }
 ],
 "metadata": {
  "kernelspec": {
   "display_name": "basic",
   "language": "python",
   "name": "python3"
  },
  "language_info": {
   "codemirror_mode": {
    "name": "ipython",
    "version": 3
   },
   "file_extension": ".py",
   "mimetype": "text/x-python",
   "name": "python",
   "nbconvert_exporter": "python",
   "pygments_lexer": "ipython3",
   "version": "3.9.21"
  }
 },
 "nbformat": 4,
 "nbformat_minor": 5
}
