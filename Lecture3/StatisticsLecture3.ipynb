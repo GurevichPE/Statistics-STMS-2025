{
 "cells": [
  {
   "cell_type": "markdown",
   "id": "60df8127",
   "metadata": {},
   "source": [
    "# Занятие 3. Случайные величины. Распределение данных.\n",
    "\n",
    "## Понятие случайной величины. \n",
    "\n",
    "Статистика непосредственно связана с теорией вероятностей, которая не может обойтись без случайных величин. \n",
    "\n",
    "Случайная величина — это функция, которая принимает различные числовые значения в зависимости от исхода случайного эксперимента или явления. Это как \"коробка с числами\", где каждое число может выпасть с определенной вероятностью. \n",
    "\n",
    "В зависимости от того, как определены вероятности \"внутри\" случайной величины, она может порождать различные распределения. \n",
    "\n",
    "Например, если случайная величина принимает любое значение на отрезке от 0 до 1 с равной вероятностью, то она будет порождать равномерное распределение. \n",
    "\n",
    "Если в \"коробке\" лежит конечный набор чисел, то случайная величина будет дискретной. Иначе она будет непрерывной. \n",
    "\n",
    "Статистика работает уже с результатом эксперимента. То есть с конечным набором чисел, порождённых случайной величиной. Основная задача статистики -- выяснить, какое распределение порождается этой случайной величиной. "
   ]
  },
  {
   "cell_type": "markdown",
   "id": "0d1ad6a6",
   "metadata": {},
   "source": [
    "### Модуль scipy.stats\n",
    "\n",
    "Для работы со случайными числами и распределениями данных используется модуль scipy.stats. Он позволяет генерировать случайные числа из различных распределений, а также выполнять различные статистические операции над данными."
   ]
  },
  {
   "cell_type": "code",
   "execution_count": null,
   "id": "16906c1c",
   "metadata": {},
   "outputs": [],
   "source": [
    "import scipy.stats as sps\n",
    "RANDOM_STATE = 42"
   ]
  },
  {
   "cell_type": "markdown",
   "id": "726c5cfd",
   "metadata": {},
   "source": [
    "### Равномерное распределение. \n",
    "\n",
    "Функция распределения: \n",
    "\n",
    "$$F(x) = \\begin{cases} \n",
    "0, & x < a \\\\\n",
    "\\frac{x - a}{b - a}, & a \\leq x < b \\\\\n",
    "1, & x \\geq b \n",
    "\\end{cases}$$\n",
    "\n",
    "Плотность распределения: \n",
    "\n",
    "$$\n",
    "f(x) = \\begin{cases} \n",
    "0, & x < a \\\\\n",
    "\\frac{1}{b - a}, & a \\leq x < b \\\\\n",
    "0, & x \\geq b \n",
    "\\end{cases}$$\n",
    "\n",
    "\n",
    "\n",
    "\n",
    "\n"
   ]
  },
  {
   "cell_type": "code",
   "execution_count": null,
   "id": "408cb9c0",
   "metadata": {},
   "outputs": [],
   "source": [
    "import numpy as np\n",
    "import matplotlib.pyplot as plt\n",
    "\n",
    "X = np.linspace(-1, 2, 10000)\n",
    "\n",
    "density = sps.uniform(loc=0,scale=1).pdf(X)\n",
    "F = sps.uniform(0, 1).cdf(X)\n",
    "\n",
    "plt.figure(figsize=(10, 5))\n",
    "\n",
    "plt.subplot(1, 2, 1)\n",
    "plt.plot(X, density)\n",
    "plt.title(\"Плотность вероятности\\nравномерного распределения\")\n",
    "plt.xlabel(\"x\")\n",
    "plt.ylabel(\"плотность\")\n",
    "\n",
    "plt.subplot(1, 2, 2)\n",
    "plt.plot(X, F)\n",
    "plt.title(\"Функция распределения\\nравномерного распределения\")\n",
    "plt.xlabel(\"x\")\n",
    "plt.ylabel(\"функция распределения\")"
   ]
  },
  {
   "cell_type": "markdown",
   "id": "9c0d06a4",
   "metadata": {},
   "source": [
    "Мы можем не только получать функции распределения и плотности, но и генерировать случайные числа из распределений. Для этого используется метод rvs. "
   ]
  },
  {
   "cell_type": "code",
   "execution_count": null,
   "id": "58212211",
   "metadata": {},
   "outputs": [],
   "source": [
    "samples = sps.uniform(0, 1).rvs(1000, random_state=RANDOM_STATE)\n",
    "\n",
    "plt.hist(samples, density=True);"
   ]
  },
  {
   "cell_type": "code",
   "execution_count": null,
   "id": "92ca257f",
   "metadata": {},
   "outputs": [],
   "source": [
    "plt.figure(figsize=(10, 5))\n",
    "plt.vlines(samples, 0, 1, alpha=0.4);"
   ]
  },
  {
   "cell_type": "markdown",
   "id": "d6a92c8b",
   "metadata": {},
   "source": [
    "### Нормальное распределение. \n",
    "\n",
    "Функция распределения: \n",
    "\n",
    "$$F(x) = \\frac{1}{\\sqrt{2\\pi\\sigma^2}} \\int_{-\\infty}^{x} e^{-\\frac{(t - \\mu)^2}{2\\sigma^2}} dt$$\n",
    "\n",
    "Плотность распределения: \n",
    "\n",
    "$$f(x) = \\frac{1}{\\sqrt{2\\pi\\sigma^2}} e^{-\\frac{(x - \\mu)^2}{2\\sigma^2}}$$\n"
   ]
  },
  {
   "cell_type": "code",
   "execution_count": null,
   "id": "10fc46b9",
   "metadata": {},
   "outputs": [],
   "source": [
    "\n",
    "X = np.linspace(-4, 4, 10000)\n",
    "\n",
    "density = sps.norm(loc=0,scale=1).pdf(X)\n",
    "F = sps.norm(0, 1).cdf(X)\n",
    "\n",
    "plt.figure(figsize=(10, 5))\n",
    "\n",
    "plt.subplot(1, 2, 1)\n",
    "plt.plot(X, density)\n",
    "plt.title(\"Плотность вероятности\\nнормального распределения\")\n",
    "plt.xlabel(\"x\")\n",
    "plt.ylabel(\"плотность\")\n",
    "\n",
    "plt.subplot(1, 2, 2)\n",
    "plt.plot(X, F)\n",
    "plt.title(\"Функция распределения\\нормального распределения\")\n",
    "plt.xlabel(\"x\")\n",
    "plt.ylabel(\"функция распределения\")"
   ]
  },
  {
   "cell_type": "code",
   "execution_count": null,
   "id": "204c6ddb",
   "metadata": {},
   "outputs": [],
   "source": [
    "samples = sps.norm(0, 1).rvs(10000, random_state=RANDOM_STATE)\n",
    "\n",
    "plt.hist(samples, density=True, bins=25);"
   ]
  },
  {
   "cell_type": "code",
   "execution_count": null,
   "id": "82da7fd3",
   "metadata": {},
   "outputs": [],
   "source": [
    "samples = sps.norm(0, 1).rvs(2000, random_state=RANDOM_STATE)\n",
    "plt.figure(figsize=(10, 5))\n",
    "plt.vlines(samples, 0, 1, alpha=0.1);"
   ]
  },
  {
   "cell_type": "markdown",
   "id": "bd9ae645",
   "metadata": {},
   "source": [
    "### Экспоненциальное распределение. \n",
    "\n",
    "Функция распределения: \n",
    "\n",
    "$$F(x) = \\begin{cases} \n",
    "0, & x < 0 \\\\\n",
    "1 - e^{-\\lambda x}, & x \\geq 0 \n",
    "\\end{cases}$$\n",
    "\n",
    "Плотность распределения: \n",
    "\n",
    "$$f(x) = \\begin{cases} \n",
    "0, & x < 0 \\\\\n",
    "\\lambda e^{-\\lambda x}, & x \\geq 0 \n",
    "\\end{cases}$$\n",
    "\n",
    "\n",
    "\n",
    "\n",
    "\n",
    "\n",
    "\n",
    "\n",
    "\n"
   ]
  },
  {
   "cell_type": "code",
   "execution_count": null,
   "id": "00587372",
   "metadata": {},
   "outputs": [],
   "source": [
    "\n",
    "X = np.linspace(-0.5, 5, 10000)\n",
    "\n",
    "density = sps.expon().pdf(X)\n",
    "F = sps.expon().cdf(X)\n",
    "\n",
    "plt.figure(figsize=(10, 5))\n",
    "\n",
    "plt.subplot(1, 2, 1)\n",
    "plt.plot(X, density)\n",
    "plt.title(\"Плотность вероятности\\nэкспоненциального распределения\")\n",
    "plt.xlabel(\"x\")\n",
    "plt.ylabel(\"плотность\")\n",
    "\n",
    "plt.subplot(1, 2, 2)\n",
    "plt.plot(X, F)\n",
    "plt.title(\"Функция распределения\\nэкспоненциального распределения\")\n",
    "plt.xlabel(\"x\")\n",
    "plt.ylabel(\"функция распределения\")"
   ]
  },
  {
   "cell_type": "code",
   "execution_count": null,
   "id": "73baea0e",
   "metadata": {},
   "outputs": [],
   "source": [
    "samples = sps.expon().rvs(10000, random_state=RANDOM_STATE)\n",
    "\n",
    "plt.hist(samples, density=True, bins=25);"
   ]
  },
  {
   "cell_type": "code",
   "execution_count": null,
   "id": "9bd2570d",
   "metadata": {},
   "outputs": [],
   "source": [
    "samples = sps.expon().rvs(2000, random_state=RANDOM_STATE)\n",
    "plt.figure(figsize=(10, 5))\n",
    "plt.vlines(samples, 0, 1, alpha=0.1);"
   ]
  },
  {
   "cell_type": "markdown",
   "id": "a8b725cf",
   "metadata": {},
   "source": [
    "### Нахождение параметров распределения. \n",
    "\n",
    "**Равномерное распределение.** \n",
    "\n",
    "Параметры a и b по сути являются границами отрезка, на котором лежат значения случайной величины. Поэтому оценки параметров можно найти как минимум и максимум выборки. "
   ]
  },
  {
   "cell_type": "code",
   "execution_count": null,
   "id": "054f8790",
   "metadata": {},
   "outputs": [],
   "source": [
    "real_a = -1\n",
    "real_b = 3\n",
    "\n",
    "min_sample_size = 3\n",
    "max_sample_size = 1_000\n",
    "step = 2\n",
    "num_steps = (max_sample_size - min_sample_size) // step + 1\n",
    "\n",
    "\n",
    "estimated_a = []\n",
    "estimated_b = []\n",
    "\n",
    "for i in range(num_steps):\n",
    "    subsample = sps.uniform(real_a, real_b - real_a).rvs(min_sample_size + step * i, random_state=RANDOM_STATE + i)\n",
    "    estimated_a.append(subsample.min())\n",
    "    estimated_b.append(subsample.max())\n",
    "\n",
    "\n",
    "plt.hlines(real_a, min_sample_size, max_sample_size + 10, label=\"Реальный a\", color='darkviolet', linewidth=2)\n",
    "plt.hlines(real_b, min_sample_size, max_sample_size + 10, label=\"Реальный b\", color='red', linewidth=2)\n",
    "\n",
    "plt.plot(np.arange(min_sample_size, max_sample_size + 1, step), estimated_a, label=\"Оценка a\")\n",
    "plt.plot(np.arange(min_sample_size, max_sample_size + 1, step), estimated_b, label=\"Оценка b\")\n",
    "\n",
    "plt.legend()\n",
    "plt.show()"
   ]
  },
  {
   "cell_type": "markdown",
   "id": "71e2ccc2",
   "metadata": {},
   "source": [
    "**Нормальное распределение.** \n",
    "\n",
    "Параметры распределения: $\\mu$ и $\\sigma^2$. \n",
    "\n",
    "Параметр $\\mu$ характеризует центр распределения, $\\sigma^2$ — разброс. \n",
    "\n",
    "$\\mu$ можно оценить как среднее арифметическое выборки. \n",
    "\n",
    "$\\sigma^2$ можно оценить как выборочную дисперсию. \n"
   ]
  },
  {
   "cell_type": "code",
   "execution_count": null,
   "id": "bcc9d396",
   "metadata": {},
   "outputs": [],
   "source": [
    "real_mu = -1\n",
    "real_sigma = 7\n",
    "\n",
    "min_sample_size = 3\n",
    "max_sample_size = 1_000\n",
    "step = 1\n",
    "sample_sizes = np.arange(min_sample_size, max_sample_size + 1, step)\n",
    "\n",
    "mean_mu = []\n",
    "median_mu = []\n",
    "estimated_sigma = []\n",
    "\n",
    "for size in sample_sizes:\n",
    "    sample = sps.norm(real_mu, real_sigma).rvs(size)\n",
    "    mean_mu.append(sample.mean())\n",
    "    median_mu.append(np.median(sample))\n",
    "    estimated_sigma.append(sample.std())\n",
    "\n",
    "plt.plot(sample_sizes, mean_mu, alpha=0.5)\n",
    "plt.plot(sample_sizes, median_mu, alpha=0.5)\n",
    "plt.plot(sample_sizes, estimated_sigma)\n",
    "\n",
    "plt.show()"
   ]
  },
  {
   "cell_type": "markdown",
   "id": "d5d244e7",
   "metadata": {},
   "source": [
    "### Проверка нормальности распределения\n",
    "\n",
    "Если мы знаем вид распределения, то у нас есть сила. Мы можем оценить параметры. После чего мы можем понять общую зависимость в данных и эффективно работать с ними. \n",
    "\n",
    "Наглядный способ проверить нормальность распределения — это Q-Q plot. \n",
    "\n",
    "Q-Q plot — это график, который сравнивает квантили эмпирического (выборочного) распределения с квантилями теоретического распределения.\n",
    "\n",
    "Квантиль — это значение, ниже которого находится определенная доля данных.\n",
    "\n",
    "Примеры:\n",
    "\n",
    "* Медиана = 0.5-квантиль (50% данных ниже этого значения)\n",
    "* Первый квартиль = 0.25-квантиль (25% данных ниже)\n",
    "* Третий квартиль = 0.75-квантиль (75% данных ниже)\n",
    "\n",
    "\n",
    "\n",
    "\n",
    "\n",
    "\n",
    "\n"
   ]
  },
  {
   "cell_type": "code",
   "execution_count": null,
   "id": "9f222d4f",
   "metadata": {},
   "outputs": [],
   "source": [
    "def plot_qq(data: np.ndarray, dist: str = \"norm\", \n",
    "            title: str = \"Q-Q Plot\", figsize: tuple = (8, 6)) -> None:\n",
    "    \"\"\"\n",
    "    Create a Q-Q plot to check if data follows normal distribution.\n",
    "    \n",
    "    Args:\n",
    "        data: Array of numerical data\n",
    "        title: Title for the plot\n",
    "        figsize: Figure size as (width, height)\n",
    "    \n",
    "    Returns:\n",
    "        None\n",
    "    \"\"\"\n",
    "    fig, ax = plt.subplots(figsize=figsize)\n",
    "    \n",
    "    # Create Q-Q plot\n",
    "    sps.probplot(data, dist=dist, plot=ax, rvalue=True)\n",
    "    \n",
    "    # Customize the plot\n",
    "    ax.set_title(title, fontsize=14, fontweight='bold')\n",
    "    ax.set_xlabel(\"Theoretical Quantiles\", fontsize=12)\n",
    "    ax.set_ylabel(\"Sample Quantiles\", fontsize=12)\n",
    "    ax.grid(True, alpha=0.3)\n",
    "    \n",
    "    # Add reference line\n",
    "\n",
    "    plt.tight_layout()\n",
    "    plt.show()\n",
    "\n",
    "\n",
    "plot_qq(sps.norm(1, 5).rvs(100) )\n",
    "plot_qq(sps.uniform(0, 5).rvs(100))\n",
    "plot_qq(sps.cauchy().rvs(100))"
   ]
  },
  {
   "cell_type": "markdown",
   "id": "4e886c2c",
   "metadata": {},
   "source": [
    "### Семинар 3\n",
    "\n",
    "Загрузите данные `StudentsPerformance.csv`.\n",
    "\n",
    "Возьмите данные оценок учеников по математике.\n",
    "\n",
    "Постройте гистограмму распределения оценок. Похожа ли она на нормальное распределение?\n",
    "\n",
    "В предположении нормальности распределения оценок, найдите параметры $\\mu$ и $\\sigma$.\n",
    "\n",
    "Для проверки нормальности распределения оценок постройте Q-Q plot.\n",
    "\n",
    "Также постройте Q-Q plot для распределения оценок по математике отдельно для мальчиков и девочек."
   ]
  },
  {
   "cell_type": "code",
   "execution_count": null,
   "id": "1359f50c",
   "metadata": {},
   "outputs": [],
   "source": []
  }
 ],
 "metadata": {
  "kernelspec": {
   "display_name": "basic",
   "language": "python",
   "name": "python3"
  },
  "language_info": {
   "codemirror_mode": {
    "name": "ipython",
    "version": 3
   },
   "file_extension": ".py",
   "mimetype": "text/x-python",
   "name": "python",
   "nbconvert_exporter": "python",
   "pygments_lexer": "ipython3",
   "version": "3.9.21"
  }
 },
 "nbformat": 4,
 "nbformat_minor": 5
}
